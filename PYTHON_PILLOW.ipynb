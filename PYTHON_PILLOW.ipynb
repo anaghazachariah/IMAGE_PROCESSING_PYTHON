{
  "nbformat": 4,
  "nbformat_minor": 0,
  "metadata": {
    "colab": {
      "name": "PYTHON-PILLOW.ipynb",
      "provenance": [],
      "authorship_tag": "ABX9TyMInc3J5mTab0XLnnltlEAk",
      "include_colab_link": true
    },
    "kernelspec": {
      "name": "python3",
      "display_name": "Python 3"
    },
    "language_info": {
      "name": "python"
    }
  },
  "cells": [
    {
      "cell_type": "markdown",
      "metadata": {
        "id": "view-in-github",
        "colab_type": "text"
      },
      "source": [
        "<a href=\"https://colab.research.google.com/github/anaghazachariah/images/blob/main/PYTHON_PILLOW.ipynb\" target=\"_parent\"><img src=\"https://colab.research.google.com/assets/colab-badge.svg\" alt=\"Open In Colab\"/></a>"
      ]
    },
    {
      "cell_type": "markdown",
      "metadata": {
        "id": "9TBmyq_UVMYk"
      },
      "source": [
        "PILLOW is a Python Imaging Library.Over 30 different file formats can be identified and read by pillow.\n",
        "\n",
        "For more information visit https://github.com/python-pillow/Pillow"
      ]
    },
    {
      "cell_type": "code",
      "metadata": {
        "id": "QVNYeiRjVBYf"
      },
      "source": [
        "from google.colab import drive\n",
        "drive.mount('/content/drive')"
      ],
      "execution_count": null,
      "outputs": []
    },
    {
      "cell_type": "code",
      "metadata": {
        "id": "mAocNpS7VJcx"
      },
      "source": [
        "cd 'drive/My Drive/images'"
      ],
      "execution_count": null,
      "outputs": []
    },
    {
      "cell_type": "code",
      "metadata": {
        "id": "XznSePWzVKKU"
      },
      "source": [
        ""
      ],
      "execution_count": null,
      "outputs": []
    }
  ]
}